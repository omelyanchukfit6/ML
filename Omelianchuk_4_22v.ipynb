{
 "cells": [
  {
   "cell_type": "code",
   "execution_count": 130,
   "id": "6bee7dc5-d823-440a-8802-36891d704c25",
   "metadata": {},
   "outputs": [],
   "source": [
    "\n",
    "\n",
    "# ЗАВДАННЯ 1:\n",
    "\n"
   ]
  },
  {
   "cell_type": "code",
   "execution_count": 131,
   "id": "bf0e11c5-ba71-40ac-a50d-e24eb563ec49",
   "metadata": {},
   "outputs": [],
   "source": [
    "# Завдання 1.1: Завантажуємо вбудований датасет load_breast_cancer з бібліотеки sklearn.datasets\n",
    "\n",
    "from sklearn.datasets import load_breast_cancer\n",
    "import pandas as pd\n",
    "\n",
    "# Завантажуємо дані\n",
    "cancer = load_breast_cancer()\n",
    "\n",
    "# Створюємо DataFrame\n",
    "data = pd.DataFrame(cancer.data, columns=cancer.feature_names)\n",
    "data['target'] = cancer.target\n"
   ]
  },
  {
   "cell_type": "code",
   "execution_count": 132,
   "id": "20b8f343-dccc-47da-9f39-6e8b0fbd19f4",
   "metadata": {},
   "outputs": [
    {
     "data": {
      "text/html": [
       "<div>\n",
       "<style scoped>\n",
       "    .dataframe tbody tr th:only-of-type {\n",
       "        vertical-align: middle;\n",
       "    }\n",
       "\n",
       "    .dataframe tbody tr th {\n",
       "        vertical-align: top;\n",
       "    }\n",
       "\n",
       "    .dataframe thead th {\n",
       "        text-align: right;\n",
       "    }\n",
       "</style>\n",
       "<table border=\"1\" class=\"dataframe\">\n",
       "  <thead>\n",
       "    <tr style=\"text-align: right;\">\n",
       "      <th></th>\n",
       "      <th>mean radius</th>\n",
       "      <th>mean texture</th>\n",
       "      <th>mean perimeter</th>\n",
       "      <th>mean area</th>\n",
       "      <th>mean smoothness</th>\n",
       "      <th>mean compactness</th>\n",
       "      <th>mean concavity</th>\n",
       "      <th>mean concave points</th>\n",
       "      <th>mean symmetry</th>\n",
       "      <th>mean fractal dimension</th>\n",
       "      <th>...</th>\n",
       "      <th>worst texture</th>\n",
       "      <th>worst perimeter</th>\n",
       "      <th>worst area</th>\n",
       "      <th>worst smoothness</th>\n",
       "      <th>worst compactness</th>\n",
       "      <th>worst concavity</th>\n",
       "      <th>worst concave points</th>\n",
       "      <th>worst symmetry</th>\n",
       "      <th>worst fractal dimension</th>\n",
       "      <th>target</th>\n",
       "    </tr>\n",
       "  </thead>\n",
       "  <tbody>\n",
       "    <tr>\n",
       "      <th>0</th>\n",
       "      <td>17.99</td>\n",
       "      <td>10.38</td>\n",
       "      <td>122.80</td>\n",
       "      <td>1001.0</td>\n",
       "      <td>0.11840</td>\n",
       "      <td>0.27760</td>\n",
       "      <td>0.3001</td>\n",
       "      <td>0.14710</td>\n",
       "      <td>0.2419</td>\n",
       "      <td>0.07871</td>\n",
       "      <td>...</td>\n",
       "      <td>17.33</td>\n",
       "      <td>184.60</td>\n",
       "      <td>2019.0</td>\n",
       "      <td>0.1622</td>\n",
       "      <td>0.6656</td>\n",
       "      <td>0.7119</td>\n",
       "      <td>0.2654</td>\n",
       "      <td>0.4601</td>\n",
       "      <td>0.11890</td>\n",
       "      <td>0</td>\n",
       "    </tr>\n",
       "    <tr>\n",
       "      <th>1</th>\n",
       "      <td>20.57</td>\n",
       "      <td>17.77</td>\n",
       "      <td>132.90</td>\n",
       "      <td>1326.0</td>\n",
       "      <td>0.08474</td>\n",
       "      <td>0.07864</td>\n",
       "      <td>0.0869</td>\n",
       "      <td>0.07017</td>\n",
       "      <td>0.1812</td>\n",
       "      <td>0.05667</td>\n",
       "      <td>...</td>\n",
       "      <td>23.41</td>\n",
       "      <td>158.80</td>\n",
       "      <td>1956.0</td>\n",
       "      <td>0.1238</td>\n",
       "      <td>0.1866</td>\n",
       "      <td>0.2416</td>\n",
       "      <td>0.1860</td>\n",
       "      <td>0.2750</td>\n",
       "      <td>0.08902</td>\n",
       "      <td>0</td>\n",
       "    </tr>\n",
       "    <tr>\n",
       "      <th>2</th>\n",
       "      <td>19.69</td>\n",
       "      <td>21.25</td>\n",
       "      <td>130.00</td>\n",
       "      <td>1203.0</td>\n",
       "      <td>0.10960</td>\n",
       "      <td>0.15990</td>\n",
       "      <td>0.1974</td>\n",
       "      <td>0.12790</td>\n",
       "      <td>0.2069</td>\n",
       "      <td>0.05999</td>\n",
       "      <td>...</td>\n",
       "      <td>25.53</td>\n",
       "      <td>152.50</td>\n",
       "      <td>1709.0</td>\n",
       "      <td>0.1444</td>\n",
       "      <td>0.4245</td>\n",
       "      <td>0.4504</td>\n",
       "      <td>0.2430</td>\n",
       "      <td>0.3613</td>\n",
       "      <td>0.08758</td>\n",
       "      <td>0</td>\n",
       "    </tr>\n",
       "    <tr>\n",
       "      <th>3</th>\n",
       "      <td>11.42</td>\n",
       "      <td>20.38</td>\n",
       "      <td>77.58</td>\n",
       "      <td>386.1</td>\n",
       "      <td>0.14250</td>\n",
       "      <td>0.28390</td>\n",
       "      <td>0.2414</td>\n",
       "      <td>0.10520</td>\n",
       "      <td>0.2597</td>\n",
       "      <td>0.09744</td>\n",
       "      <td>...</td>\n",
       "      <td>26.50</td>\n",
       "      <td>98.87</td>\n",
       "      <td>567.7</td>\n",
       "      <td>0.2098</td>\n",
       "      <td>0.8663</td>\n",
       "      <td>0.6869</td>\n",
       "      <td>0.2575</td>\n",
       "      <td>0.6638</td>\n",
       "      <td>0.17300</td>\n",
       "      <td>0</td>\n",
       "    </tr>\n",
       "    <tr>\n",
       "      <th>4</th>\n",
       "      <td>20.29</td>\n",
       "      <td>14.34</td>\n",
       "      <td>135.10</td>\n",
       "      <td>1297.0</td>\n",
       "      <td>0.10030</td>\n",
       "      <td>0.13280</td>\n",
       "      <td>0.1980</td>\n",
       "      <td>0.10430</td>\n",
       "      <td>0.1809</td>\n",
       "      <td>0.05883</td>\n",
       "      <td>...</td>\n",
       "      <td>16.67</td>\n",
       "      <td>152.20</td>\n",
       "      <td>1575.0</td>\n",
       "      <td>0.1374</td>\n",
       "      <td>0.2050</td>\n",
       "      <td>0.4000</td>\n",
       "      <td>0.1625</td>\n",
       "      <td>0.2364</td>\n",
       "      <td>0.07678</td>\n",
       "      <td>0</td>\n",
       "    </tr>\n",
       "  </tbody>\n",
       "</table>\n",
       "<p>5 rows × 31 columns</p>\n",
       "</div>"
      ],
      "text/plain": [
       "   mean radius  mean texture  mean perimeter  mean area  mean smoothness  \\\n",
       "0        17.99         10.38          122.80     1001.0          0.11840   \n",
       "1        20.57         17.77          132.90     1326.0          0.08474   \n",
       "2        19.69         21.25          130.00     1203.0          0.10960   \n",
       "3        11.42         20.38           77.58      386.1          0.14250   \n",
       "4        20.29         14.34          135.10     1297.0          0.10030   \n",
       "\n",
       "   mean compactness  mean concavity  mean concave points  mean symmetry  \\\n",
       "0           0.27760          0.3001              0.14710         0.2419   \n",
       "1           0.07864          0.0869              0.07017         0.1812   \n",
       "2           0.15990          0.1974              0.12790         0.2069   \n",
       "3           0.28390          0.2414              0.10520         0.2597   \n",
       "4           0.13280          0.1980              0.10430         0.1809   \n",
       "\n",
       "   mean fractal dimension  ...  worst texture  worst perimeter  worst area  \\\n",
       "0                 0.07871  ...          17.33           184.60      2019.0   \n",
       "1                 0.05667  ...          23.41           158.80      1956.0   \n",
       "2                 0.05999  ...          25.53           152.50      1709.0   \n",
       "3                 0.09744  ...          26.50            98.87       567.7   \n",
       "4                 0.05883  ...          16.67           152.20      1575.0   \n",
       "\n",
       "   worst smoothness  worst compactness  worst concavity  worst concave points  \\\n",
       "0            0.1622             0.6656           0.7119                0.2654   \n",
       "1            0.1238             0.1866           0.2416                0.1860   \n",
       "2            0.1444             0.4245           0.4504                0.2430   \n",
       "3            0.2098             0.8663           0.6869                0.2575   \n",
       "4            0.1374             0.2050           0.4000                0.1625   \n",
       "\n",
       "   worst symmetry  worst fractal dimension  target  \n",
       "0          0.4601                  0.11890       0  \n",
       "1          0.2750                  0.08902       0  \n",
       "2          0.3613                  0.08758       0  \n",
       "3          0.6638                  0.17300       0  \n",
       "4          0.2364                  0.07678       0  \n",
       "\n",
       "[5 rows x 31 columns]"
      ]
     },
     "execution_count": 132,
     "metadata": {},
     "output_type": "execute_result"
    }
   ],
   "source": [
    "# Завдання 1.2.1: Переглядаємо перші кілька рядків даних\n",
    "data.head()\n"
   ]
  },
  {
   "cell_type": "code",
   "execution_count": 133,
   "id": "5b076b76-a5c1-4e99-9bcf-a4bf9248b99a",
   "metadata": {},
   "outputs": [
    {
     "name": "stdout",
     "output_type": "stream",
     "text": [
      "Назви стовпців:\n",
      "Index(['mean radius', 'mean texture', 'mean perimeter', 'mean area',\n",
      "       'mean smoothness', 'mean compactness', 'mean concavity',\n",
      "       'mean concave points', 'mean symmetry', 'mean fractal dimension',\n",
      "       'radius error', 'texture error', 'perimeter error', 'area error',\n",
      "       'smoothness error', 'compactness error', 'concavity error',\n",
      "       'concave points error', 'symmetry error', 'fractal dimension error',\n",
      "       'worst radius', 'worst texture', 'worst perimeter', 'worst area',\n",
      "       'worst smoothness', 'worst compactness', 'worst concavity',\n",
      "       'worst concave points', 'worst symmetry', 'worst fractal dimension',\n",
      "       'target'],\n",
      "      dtype='object')\n",
      "\n",
      "Типи даних:\n",
      "mean radius                float64\n",
      "mean texture               float64\n",
      "mean perimeter             float64\n",
      "mean area                  float64\n",
      "mean smoothness            float64\n",
      "mean compactness           float64\n",
      "mean concavity             float64\n",
      "mean concave points        float64\n",
      "mean symmetry              float64\n",
      "mean fractal dimension     float64\n",
      "radius error               float64\n",
      "texture error              float64\n",
      "perimeter error            float64\n",
      "area error                 float64\n",
      "smoothness error           float64\n",
      "compactness error          float64\n",
      "concavity error            float64\n",
      "concave points error       float64\n",
      "symmetry error             float64\n",
      "fractal dimension error    float64\n",
      "worst radius               float64\n",
      "worst texture              float64\n",
      "worst perimeter            float64\n",
      "worst area                 float64\n",
      "worst smoothness           float64\n",
      "worst compactness          float64\n",
      "worst concavity            float64\n",
      "worst concave points       float64\n",
      "worst symmetry             float64\n",
      "worst fractal dimension    float64\n",
      "target                       int64\n",
      "dtype: object\n"
     ]
    }
   ],
   "source": [
    "# Завдання 1.2.2: Перевіряємо назви стовпців та типи даних\n",
    "print(\"Назви стовпців:\")\n",
    "print(data.columns)\n",
    "\n",
    "print(\"\\nТипи даних:\")\n",
    "print(data.dtypes)\n"
   ]
  },
  {
   "cell_type": "code",
   "execution_count": 134,
   "id": "a37be795-5219-44e2-892a-1e3424eeab1b",
   "metadata": {},
   "outputs": [
    {
     "name": "stdout",
     "output_type": "stream",
     "text": [
      "Кількість пропущених значень у кожному стовпці:\n",
      "mean radius                0\n",
      "mean texture               0\n",
      "mean perimeter             0\n",
      "mean area                  0\n",
      "mean smoothness            0\n",
      "mean compactness           0\n",
      "mean concavity             0\n",
      "mean concave points        0\n",
      "mean symmetry              0\n",
      "mean fractal dimension     0\n",
      "radius error               0\n",
      "texture error              0\n",
      "perimeter error            0\n",
      "area error                 0\n",
      "smoothness error           0\n",
      "compactness error          0\n",
      "concavity error            0\n",
      "concave points error       0\n",
      "symmetry error             0\n",
      "fractal dimension error    0\n",
      "worst radius               0\n",
      "worst texture              0\n",
      "worst perimeter            0\n",
      "worst area                 0\n",
      "worst smoothness           0\n",
      "worst compactness          0\n",
      "worst concavity            0\n",
      "worst concave points       0\n",
      "worst symmetry             0\n",
      "worst fractal dimension    0\n",
      "target                     0\n",
      "dtype: int64\n"
     ]
    }
   ],
   "source": [
    "# Завдання 1.2.3: Перевіряємо наявність пропущених значень\n",
    "print(\"Кількість пропущених значень у кожному стовпці:\")\n",
    "print(data.isnull().sum())\n"
   ]
  },
  {
   "cell_type": "code",
   "execution_count": 135,
   "id": "5ed36736-a7bd-4eca-b1b2-873b8ebd3f31",
   "metadata": {},
   "outputs": [
    {
     "name": "stdout",
     "output_type": "stream",
     "text": [
      "Розмір даних:\n",
      "(569, 31)\n"
     ]
    }
   ],
   "source": [
    "# Завдання 1.2.4: Досліджуємо розмір даних\n",
    "print(\"Розмір даних:\")\n",
    "print(data.shape)\n"
   ]
  },
  {
   "cell_type": "code",
   "execution_count": 136,
   "id": "d8a531b4-11ac-4676-8562-772a9dc33347",
   "metadata": {},
   "outputs": [],
   "source": [
    "# Завдання 1.2(2).1: Розділяємо дані на навчальний і тестовий набори\n",
    "from sklearn.model_selection import train_test_split\n",
    "\n",
    "X = data.drop('target', axis=1)\n",
    "y = data['target']\n",
    "\n",
    "X_train, X_test, y_train, y_test = train_test_split(X, y, test_size=0.2, random_state=42)\n"
   ]
  },
  {
   "cell_type": "code",
   "execution_count": 137,
   "id": "12443637-ce05-47dc-90bd-6baad3ecb79d",
   "metadata": {},
   "outputs": [
    {
     "name": "stdout",
     "output_type": "stream",
     "text": [
      "Найкращі параметри для логістичної регресії: {'logreg__C': 0.1, 'logreg__solver': 'liblinear'}\n"
     ]
    }
   ],
   "source": [
    "# Завдання 1.2(2).2.1: Побудова моделі логістичної регресії та підбір оптимальних параметрів\n",
    "\n",
    "from sklearn.linear_model import LogisticRegression\n",
    "from sklearn.model_selection import GridSearchCV\n",
    "from sklearn.preprocessing import StandardScaler\n",
    "from sklearn.pipeline import Pipeline\n",
    "\n",
    "# Створюємо пайплайн для масштабування даних та моделювання\n",
    "pipeline = Pipeline([\n",
    "    ('scaler', StandardScaler()),\n",
    "    ('logreg', LogisticRegression(max_iter=1000))\n",
    "])\n",
    "\n",
    "# Визначаємо сітку параметрів для GridSearchCV\n",
    "param_grid_lr = {\n",
    "    'logreg__C': [0.1, 1, 10, 100],\n",
    "    'logreg__solver': ['lbfgs', 'liblinear']\n",
    "}\n",
    "\n",
    "# Налаштовуємо GridSearchCV з пайплайном\n",
    "grid_lr = GridSearchCV(pipeline, param_grid_lr, cv=5)\n",
    "grid_lr.fit(X_train, y_train)\n",
    "\n",
    "print(\"Найкращі параметри для логістичної регресії:\", grid_lr.best_params_)"
   ]
  },
  {
   "cell_type": "code",
   "execution_count": 138,
   "id": "6d54e659-5cd6-4c3c-986d-ac195de1651e",
   "metadata": {},
   "outputs": [
    {
     "name": "stdout",
     "output_type": "stream",
     "text": [
      "Найкращі параметри для дерева рішень: {'max_depth': 5, 'min_samples_split': 10}\n"
     ]
    }
   ],
   "source": [
    "# Завдання 1.2(2).2.2: Побудова моделі дерева рішень та підбір оптимальних параметрів\n",
    "\n",
    "from sklearn.tree import DecisionTreeClassifier\n",
    "\n",
    "param_grid_dt = {'max_depth': [None, 5, 10, 15], 'min_samples_split': [2, 5, 10]}\n",
    "\n",
    "grid_dt = GridSearchCV(DecisionTreeClassifier(), param_grid_dt, cv=5)\n",
    "grid_dt.fit(X_train, y_train)\n",
    "\n",
    "print(\"Найкращі параметри для дерева рішень:\", grid_dt.best_params_)\n"
   ]
  },
  {
   "cell_type": "code",
   "execution_count": 139,
   "id": "87bc038b-7d4c-48c8-87c5-40776c050ba4",
   "metadata": {},
   "outputs": [
    {
     "name": "stdout",
     "output_type": "stream",
     "text": [
      "Найкращі параметри для випадкового лісу: {'max_depth': 10, 'min_samples_split': 5, 'n_estimators': 100}\n"
     ]
    }
   ],
   "source": [
    "# Завдання 1.2(2).2.3: Побудова моделі випадкового лісу та підбір оптимальних параметрів\n",
    "\n",
    "from sklearn.ensemble import RandomForestClassifier\n",
    "\n",
    "param_grid_rf = {'n_estimators': [50, 100, 200], 'max_depth': [None, 5, 10], 'min_samples_split': [2, 5]}\n",
    "\n",
    "grid_rf = GridSearchCV(RandomForestClassifier(), param_grid_rf, cv=5)\n",
    "grid_rf.fit(X_train, y_train)\n",
    "\n",
    "print(\"Найкращі параметри для випадкового лісу:\", grid_rf.best_params_)\n"
   ]
  },
  {
   "cell_type": "code",
   "execution_count": 140,
   "id": "6b7dd1d0-ff71-4b32-b24c-5a0ca9ccc771",
   "metadata": {},
   "outputs": [
    {
     "name": "stdout",
     "output_type": "stream",
     "text": [
      "Точність логістичної регресії: 0.9912280701754386\n",
      "Матриця помилок:\n",
      "[[42  1]\n",
      " [ 0 71]]\n",
      "Звіт про класифікацію:\n",
      "              precision    recall  f1-score   support\n",
      "\n",
      "           0       1.00      0.98      0.99        43\n",
      "           1       0.99      1.00      0.99        71\n",
      "\n",
      "    accuracy                           0.99       114\n",
      "   macro avg       0.99      0.99      0.99       114\n",
      "weighted avg       0.99      0.99      0.99       114\n",
      "\n"
     ]
    }
   ],
   "source": [
    "# Завдання 1.3.1: Оцінка моделі логістичної регресії\n",
    "\n",
    "from sklearn.metrics import accuracy_score, classification_report, confusion_matrix\n",
    "\n",
    "y_pred_lr = grid_lr.predict(X_test)\n",
    "accuracy_lr = accuracy_score(y_test, y_pred_lr)\n",
    "\n",
    "print(\"Точність логістичної регресії:\", accuracy_lr)\n",
    "print(\"Матриця помилок:\")\n",
    "print(confusion_matrix(y_test, y_pred_lr))\n",
    "print(\"Звіт про класифікацію:\")\n",
    "print(classification_report(y_test, y_pred_lr))\n"
   ]
  },
  {
   "cell_type": "code",
   "execution_count": 141,
   "id": "3de4b700-ea7a-4070-b431-cb9cc43516d5",
   "metadata": {},
   "outputs": [
    {
     "name": "stdout",
     "output_type": "stream",
     "text": [
      "Точність дерева рішень: 0.9385964912280702\n",
      "Матриця помилок:\n",
      "[[39  4]\n",
      " [ 3 68]]\n",
      "Звіт про класифікацію:\n",
      "              precision    recall  f1-score   support\n",
      "\n",
      "           0       0.93      0.91      0.92        43\n",
      "           1       0.94      0.96      0.95        71\n",
      "\n",
      "    accuracy                           0.94       114\n",
      "   macro avg       0.94      0.93      0.93       114\n",
      "weighted avg       0.94      0.94      0.94       114\n",
      "\n"
     ]
    }
   ],
   "source": [
    "# Завдання 1.3.2: Оцінка моделі дерева рішень\n",
    "\n",
    "y_pred_dt = grid_dt.predict(X_test)\n",
    "accuracy_dt = accuracy_score(y_test, y_pred_dt)\n",
    "\n",
    "print(\"Точність дерева рішень:\", accuracy_dt)\n",
    "print(\"Матриця помилок:\")\n",
    "print(confusion_matrix(y_test, y_pred_dt))\n",
    "print(\"Звіт про класифікацію:\")\n",
    "print(classification_report(y_test, y_pred_dt))\n"
   ]
  },
  {
   "cell_type": "code",
   "execution_count": 142,
   "id": "d4974bce-bcd2-4d59-9587-050136f262c0",
   "metadata": {},
   "outputs": [
    {
     "name": "stdout",
     "output_type": "stream",
     "text": [
      "Точність випадкового лісу: 0.9649122807017544\n",
      "Матриця помилок:\n",
      "[[40  3]\n",
      " [ 1 70]]\n",
      "Звіт про класифікацію:\n",
      "              precision    recall  f1-score   support\n",
      "\n",
      "           0       0.98      0.93      0.95        43\n",
      "           1       0.96      0.99      0.97        71\n",
      "\n",
      "    accuracy                           0.96       114\n",
      "   macro avg       0.97      0.96      0.96       114\n",
      "weighted avg       0.97      0.96      0.96       114\n",
      "\n"
     ]
    }
   ],
   "source": [
    "# Завдання 1.3.3: Оцінка моделі випадкового лісу\n",
    "\n",
    "y_pred_rf = grid_rf.predict(X_test)\n",
    "accuracy_rf = accuracy_score(y_test, y_pred_rf)\n",
    "\n",
    "print(\"Точність випадкового лісу:\", accuracy_rf)\n",
    "print(\"Матриця помилок:\")\n",
    "print(confusion_matrix(y_test, y_pred_rf))\n",
    "print(\"Звіт про класифікацію:\")\n",
    "print(classification_report(y_test, y_pred_rf))\n"
   ]
  },
  {
   "cell_type": "code",
   "execution_count": 143,
   "id": "0b5f9df7-d4f3-49c1-9a5e-5ff957368067",
   "metadata": {},
   "outputs": [
    {
     "name": "stdout",
     "output_type": "stream",
     "text": [
      "Точність логістичної регресії: 0.9912280701754386\n",
      "Точність дерева рішень: 0.9385964912280702\n",
      "Точність випадкового лісу: 0.9649122807017544\n"
     ]
    }
   ],
   "source": [
    "# Завдання 1.3(2): Порівняння точності моделей та вибір найкращої\n",
    "\n",
    "print(\"Точність логістичної регресії:\", accuracy_lr)\n",
    "print(\"Точність дерева рішень:\", accuracy_dt)\n",
    "print(\"Точність випадкового лісу:\", accuracy_rf)\n"
   ]
  },
  {
   "cell_type": "code",
   "execution_count": 144,
   "id": "aa62abbc-3d8d-4180-ada5-eb316cd34fff",
   "metadata": {},
   "outputs": [
    {
     "name": "stdout",
     "output_type": "stream",
     "text": [
      "Прогнозовані значення на тестовій вибірці:\n",
      "[1 0 0 1 1 0 0 0 0 1 1 0 1 0 1 0 1 1 1 0 1 1 0 1 1 1 1 1 1 0 1 1 1 1 1 1 0\n",
      " 1 0 1 1 0 1 1 1 1 1 1 1 1 0 0 1 1 1 1 1 0 0 1 1 0 0 1 1 1 0 0 1 1 0 0 1 0\n",
      " 1 1 1 1 1 1 0 1 1 0 0 0 0 0 1 1 1 1 1 1 1 1 0 0 1 0 0 1 0 0 1 1 1 0 1 1 0\n",
      " 1 1 0]\n",
      "Реальні значення:\n",
      "[1 0 0 1 1 0 0 0 1 1 1 0 1 0 1 0 1 1 1 0 0 1 0 1 1 1 1 1 1 0 1 1 1 1 1 1 0\n",
      " 1 0 1 1 0 1 1 1 1 1 1 1 1 0 0 1 1 1 1 1 0 0 1 1 0 0 1 1 1 0 0 1 1 0 0 1 0\n",
      " 1 1 1 0 1 1 0 1 0 0 0 0 0 0 1 1 1 1 1 1 1 1 0 0 1 0 0 1 0 0 1 1 1 0 1 1 0\n",
      " 1 1 0]\n",
      "Прогнозовані значення найкращою моделлю:\n",
      "[1 0 0 1 1 0 0 0 0 1 1 0 1 0 1 0 1 1 1 0 1 1 0 1 1 1 1 1 1 0 1 1 1 1 1 1 0\n",
      " 1 0 1 1 0 1 1 1 1 1 1 1 1 0 0 1 1 1 1 1 0 0 1 1 0 0 1 1 1 0 0 1 1 0 0 1 0\n",
      " 1 1 1 1 1 1 0 1 1 0 0 0 0 0 1 1 1 1 1 1 1 1 0 0 1 0 0 1 0 0 1 1 1 0 1 1 0\n",
      " 1 1 0]\n"
     ]
    }
   ],
   "source": [
    "# Завдання 1.4: Здійснюємо прогнозування найкращою моделлю\n",
    "\n",
    "# Припустимо, що випадковий ліс показав найкращу точність\n",
    "best_model = grid_rf\n",
    "y_pred_best = y_pred_rf\n",
    "\n",
    "print(\"Прогнозовані значення на тестовій вибірці:\")\n",
    "print(y_pred_best)\n",
    "\n",
    "print(\"Реальні значення:\")\n",
    "print(y_test.values)\n",
    "\n",
    "print(\"Прогнозовані значення найкращою моделлю:\")\n",
    "print(y_pred_best)\n"
   ]
  },
  {
   "cell_type": "code",
   "execution_count": 145,
   "id": "7f76ecbc-7c15-4a8c-b829-d7433091850c",
   "metadata": {},
   "outputs": [],
   "source": [
    "\n",
    "\n",
    "# Завдання 2\n",
    "\n"
   ]
  },
  {
   "cell_type": "code",
   "execution_count": 146,
   "id": "2f90d473-ff55-48ed-905f-1a9bcb4e9967",
   "metadata": {},
   "outputs": [],
   "source": [
    "# Завдання 2.1: Завантажуємо датасет titanic.csv\n",
    "\n",
    "import pandas as pd\n",
    "\n",
    "data = pd.read_csv('titanic.csv')\n"
   ]
  },
  {
   "cell_type": "code",
   "execution_count": 147,
   "id": "279c0f25-cac7-4e05-8a55-e2d7a481de50",
   "metadata": {},
   "outputs": [
    {
     "name": "stdout",
     "output_type": "stream",
     "text": [
      "   PassengerId  Survived  Pclass  \\\n",
      "0          892         0       3   \n",
      "1          893         1       3   \n",
      "2          894         0       2   \n",
      "3          895         0       3   \n",
      "4          896         1       3   \n",
      "\n",
      "                                           Name     Sex   Age  SibSp  Parch  \\\n",
      "0                              Kelly, Mr. James    male  34.5      0      0   \n",
      "1              Wilkes, Mrs. James (Ellen Needs)  female  47.0      1      0   \n",
      "2                     Myles, Mr. Thomas Francis    male  62.0      0      0   \n",
      "3                              Wirz, Mr. Albert    male  27.0      0      0   \n",
      "4  Hirvonen, Mrs. Alexander (Helga E Lindqvist)  female  22.0      1      1   \n",
      "\n",
      "    Ticket     Fare Cabin Embarked  \n",
      "0   330911   7.8292   NaN        Q  \n",
      "1   363272   7.0000   NaN        S  \n",
      "2   240276   9.6875   NaN        Q  \n",
      "3   315154   8.6625   NaN        S  \n",
      "4  3101298  12.2875   NaN        S  \n"
     ]
    }
   ],
   "source": [
    "# Завдання 2.2: Вивести перших 5 рядків\n",
    "\n",
    "print(data.head())\n"
   ]
  },
  {
   "cell_type": "code",
   "execution_count": 148,
   "id": "549277b8-e803-436a-9be2-2a04cbd235b9",
   "metadata": {},
   "outputs": [
    {
     "name": "stdout",
     "output_type": "stream",
     "text": [
      "Розмір датасету: (418, 12)\n"
     ]
    }
   ],
   "source": [
    "# Завдання 2.3: Визначити розмір датасету\n",
    "\n",
    "print(\"Розмір датасету:\", data.shape)\n"
   ]
  },
  {
   "cell_type": "code",
   "execution_count": 149,
   "id": "6e1be2f8-074a-41ca-94f2-8b2ef19f7935",
   "metadata": {},
   "outputs": [
    {
     "name": "stdout",
     "output_type": "stream",
     "text": [
      "Типи даних у датасеті:\n",
      "PassengerId      int64\n",
      "Survived         int64\n",
      "Pclass           int64\n",
      "Name            object\n",
      "Sex             object\n",
      "Age            float64\n",
      "SibSp            int64\n",
      "Parch            int64\n",
      "Ticket          object\n",
      "Fare           float64\n",
      "Cabin           object\n",
      "Embarked        object\n",
      "dtype: object\n"
     ]
    }
   ],
   "source": [
    "# Завдання 2.4: Визначити тип даних\n",
    "\n",
    "print(\"Типи даних у датасеті:\")\n",
    "print(data.dtypes)\n"
   ]
  },
  {
   "cell_type": "code",
   "execution_count": 150,
   "id": "627fe49b-6dab-43c5-86c2-5101ead7b95a",
   "metadata": {},
   "outputs": [
    {
     "name": "stdout",
     "output_type": "stream",
     "text": [
      "Кількість пропущених значень у кожному стовпці:\n",
      "PassengerId      0\n",
      "Survived         0\n",
      "Pclass           0\n",
      "Name             0\n",
      "Sex              0\n",
      "Age             86\n",
      "SibSp            0\n",
      "Parch            0\n",
      "Ticket           0\n",
      "Fare             1\n",
      "Cabin          327\n",
      "Embarked         0\n",
      "dtype: int64\n"
     ]
    }
   ],
   "source": [
    "# Завдання 2.5: Визначити наявність пропущених значень\n",
    "\n",
    "print(\"Кількість пропущених значень у кожному стовпці:\")\n",
    "print(data.isnull().sum())\n"
   ]
  },
  {
   "cell_type": "code",
   "execution_count": 151,
   "id": "8fac0160-ab28-468e-96f9-921c09e649f6",
   "metadata": {},
   "outputs": [],
   "source": [
    "# Завдання 2.6: Замінити пропущені значення на середнє значення\n",
    "\n",
    "# Заповнюємо пропущені значення в 'Age' медіаною\n",
    "data['Age'] = data['Age'].fillna(data['Age'].median())\n",
    "\n",
    "# Заповнюємо пропущені значення в 'Embarked' модою\n",
    "data['Embarked'] = data['Embarked'].fillna(data['Embarked'].mode()[0])\n"
   ]
  },
  {
   "cell_type": "code",
   "execution_count": 152,
   "id": "49881b5e-060b-49f7-b73c-6875def6e16f",
   "metadata": {},
   "outputs": [
    {
     "name": "stdout",
     "output_type": "stream",
     "text": [
      "Кількість пропущених значень після заповнення:\n",
      "PassengerId      0\n",
      "Survived         0\n",
      "Pclass           0\n",
      "Name             0\n",
      "Sex              0\n",
      "Age              0\n",
      "SibSp            0\n",
      "Parch            0\n",
      "Ticket           0\n",
      "Fare             1\n",
      "Cabin          327\n",
      "Embarked         0\n",
      "dtype: int64\n"
     ]
    }
   ],
   "source": [
    "# Завдання 2.7: Ще раз перевірити наявність пропущених значень\n",
    "\n",
    "print(\"Кількість пропущених значень після заповнення:\")\n",
    "print(data.isnull().sum())\n"
   ]
  },
  {
   "cell_type": "code",
   "execution_count": 153,
   "id": "c7a0264d-60f2-4fd1-90bc-286810417a59",
   "metadata": {},
   "outputs": [
    {
     "name": "stdout",
     "output_type": "stream",
     "text": [
      "Кількість дублікатів: 0\n"
     ]
    }
   ],
   "source": [
    "# Завдання 2.8: Перевірити наявність дублікатів\n",
    "\n",
    "duplicates = data.duplicated().sum()\n",
    "print(\"Кількість дублікатів:\", duplicates)\n",
    "\n",
    "# Видаляємо дублікати, якщо вони є\n",
    "if duplicates > 0:\n",
    "    data = data.drop_duplicates()\n"
   ]
  },
  {
   "cell_type": "code",
   "execution_count": 154,
   "id": "2a3685bf-1117-41bf-a1d2-45b5a979fc1d",
   "metadata": {},
   "outputs": [
    {
     "name": "stdout",
     "output_type": "stream",
     "text": [
      "       PassengerId    Survived      Pclass         Age       SibSp  \\\n",
      "count   418.000000  418.000000  418.000000  418.000000  418.000000   \n",
      "mean   1100.500000    0.363636    2.265550   29.599282    0.447368   \n",
      "std     120.810458    0.481622    0.841838   12.703770    0.896760   \n",
      "min     892.000000    0.000000    1.000000    0.170000    0.000000   \n",
      "25%     996.250000    0.000000    1.000000   23.000000    0.000000   \n",
      "50%    1100.500000    0.000000    3.000000   27.000000    0.000000   \n",
      "75%    1204.750000    1.000000    3.000000   35.750000    1.000000   \n",
      "max    1309.000000    1.000000    3.000000   76.000000    8.000000   \n",
      "\n",
      "            Parch        Fare  \n",
      "count  418.000000  417.000000  \n",
      "mean     0.392344   35.627188  \n",
      "std      0.981429   55.907576  \n",
      "min      0.000000    0.000000  \n",
      "25%      0.000000    7.895800  \n",
      "50%      0.000000   14.454200  \n",
      "75%      0.000000   31.500000  \n",
      "max      9.000000  512.329200  \n"
     ]
    }
   ],
   "source": [
    "# Завдання 2.9: Вивести описову статистику датасету\n",
    "\n",
    "print(data.describe())\n"
   ]
  },
  {
   "cell_type": "code",
   "execution_count": 155,
   "id": "1bbd84f0-70c9-456d-be79-673e88d7a138",
   "metadata": {},
   "outputs": [],
   "source": [
    "# Завдання 2.10: Видалити стовпчик 'Cabin'\n",
    "\n",
    "data.drop('Cabin', axis=1, inplace=True)\n"
   ]
  },
  {
   "cell_type": "code",
   "execution_count": 156,
   "id": "6e3d9026-6a98-4a57-ab6f-c23f1ed45446",
   "metadata": {},
   "outputs": [],
   "source": [
    "# Завдання 2.11: Сформувати датасет з обраними стовпцями\n",
    "\n",
    "data = data[['Survived', 'Pclass', 'Sex', 'Age', 'Fare', 'SibSp', 'Parch', 'Embarked']]\n"
   ]
  },
  {
   "cell_type": "code",
   "execution_count": 157,
   "id": "7475babb-fc37-4ef9-b49e-e0374b624a8d",
   "metadata": {},
   "outputs": [
    {
     "name": "stdout",
     "output_type": "stream",
     "text": [
      "Унікальні значення в стовпці 'Sex': ['male' 'female']\n"
     ]
    }
   ],
   "source": [
    "# Завдання 2.12: Замінити бінарні ознаки (Стать) на 0 і 1\n",
    "\n",
    "# Перевіряємо унікальні значення в стовпці 'Sex'\n",
    "print(\"Унікальні значення в стовпці 'Sex':\", data['Sex'].unique())\n",
    "\n",
    "# Замінюємо 'male' на 0, 'female' на 1\n",
    "data['Sex'] = data['Sex'].map({'male': 0, 'female': 1})\n"
   ]
  },
  {
   "cell_type": "code",
   "execution_count": 158,
   "id": "08185e0a-830e-4a1b-8bae-e0242d4a666a",
   "metadata": {},
   "outputs": [
    {
     "name": "stdout",
     "output_type": "stream",
     "text": [
      "Кількість пропущених значень після всіх операцій:\n",
      "Survived    0\n",
      "Pclass      0\n",
      "Sex         0\n",
      "Age         0\n",
      "Fare        1\n",
      "SibSp       0\n",
      "Parch       0\n",
      "Embarked    0\n",
      "dtype: int64\n"
     ]
    }
   ],
   "source": [
    "# Завдання 2.13: Ще раз перевірити кількість пропущених даних\n",
    "\n",
    "print(\"Кількість пропущених значень після всіх операцій:\")\n",
    "print(data.isnull().sum())\n"
   ]
  },
  {
   "cell_type": "code",
   "execution_count": 159,
   "id": "45a0ab90-71bc-4eab-98ef-c0242b22579a",
   "metadata": {},
   "outputs": [
    {
     "name": "stdout",
     "output_type": "stream",
     "text": [
      "   Survived  Pclass  Sex   Age     Fare  SibSp  Parch Embarked\n",
      "0         0       3    0  34.5   7.8292      0      0        Q\n",
      "1         1       3    1  47.0   7.0000      1      0        S\n",
      "2         0       2    0  62.0   9.6875      0      0        Q\n",
      "3         0       3    0  27.0   8.6625      0      0        S\n",
      "4         1       3    1  22.0  12.2875      1      1        S\n"
     ]
    }
   ],
   "source": [
    "# Завдання 2.14: Вивести 5 перших рядків датасету\n",
    "\n",
    "print(data.head())\n"
   ]
  },
  {
   "cell_type": "code",
   "execution_count": 160,
   "id": "8825e139-05d6-4c58-adb9-afbe387b5d91",
   "metadata": {},
   "outputs": [
    {
     "name": "stdout",
     "output_type": "stream",
     "text": [
      "     Survived  Pclass  Sex   Age      Fare  SibSp  Parch Embarked\n",
      "413         0       3    0  27.0    8.0500      0      0        S\n",
      "414         1       1    1  39.0  108.9000      0      0        C\n",
      "415         0       3    0  38.5    7.2500      0      0        S\n",
      "416         0       3    0  27.0    8.0500      0      0        S\n",
      "417         0       3    0  27.0   22.3583      1      1        C\n"
     ]
    }
   ],
   "source": [
    "# Завдання 2.15: Вивести 5 останніх рядків датасету\n",
    "\n",
    "print(data.tail())\n"
   ]
  },
  {
   "cell_type": "code",
   "execution_count": 161,
   "id": "3398e1a0-2d02-4f85-97ef-16a2a2c81530",
   "metadata": {},
   "outputs": [
    {
     "name": "stdout",
     "output_type": "stream",
     "text": [
      "Відсоток виживання за статтю:\n",
      "Sex\n",
      "0      0.0\n",
      "1    100.0\n",
      "Name: Survived, dtype: float64\n"
     ]
    }
   ],
   "source": [
    "# Завдання 2.16: Обчислити відсоток виживання для кожної статі\n",
    "\n",
    "survival_by_sex = data.groupby('Sex')['Survived'].mean() * 100\n",
    "print(\"Відсоток виживання за статтю:\")\n",
    "print(survival_by_sex)\n",
    "\n",
    "# Висновок: Жінки мали вищий відсоток виживання\n"
   ]
  },
  {
   "cell_type": "code",
   "execution_count": 162,
   "id": "5172e960-d5cd-4a84-ae9d-58b531305e48",
   "metadata": {},
   "outputs": [
    {
     "name": "stdout",
     "output_type": "stream",
     "text": [
      "Відсоток виживання за класом:\n",
      "Pclass\n",
      "1    46.728972\n",
      "2    32.258065\n",
      "3    33.027523\n",
      "Name: Survived, dtype: float64\n"
     ]
    }
   ],
   "source": [
    "# Завдання 2.17: Обчислити відсоток виживання для кожного класу\n",
    "\n",
    "survival_by_class = data.groupby('Pclass')['Survived'].mean() * 100\n",
    "print(\"Відсоток виживання за класом:\")\n",
    "print(survival_by_class)\n",
    "\n",
    "# Висновок: Пасажири 1-го класу мали найвищий рівень виживання\n"
   ]
  },
  {
   "cell_type": "code",
   "execution_count": 163,
   "id": "feaab5fe-957f-4338-a7fe-181ed47d7e3a",
   "metadata": {},
   "outputs": [
    {
     "name": "stdout",
     "output_type": "stream",
     "text": [
      "Середній вік за виживанням:\n",
      "Survived\n",
      "0    29.522218\n",
      "1    29.734145\n",
      "Name: Age, dtype: float64\n"
     ]
    }
   ],
   "source": [
    "# Завдання 2.18: Визначити середній вік тих, хто вижив, і тих, хто не вижив\n",
    "\n",
    "average_age = data.groupby('Survived')['Age'].mean()\n",
    "print(\"Середній вік за виживанням:\")\n",
    "print(average_age)\n",
    "\n",
    "# Висновок: Вік впливав на виживання\n"
   ]
  },
  {
   "cell_type": "code",
   "execution_count": 164,
   "id": "a4f0eea1-0827-458b-aa5b-8a8b9007bd5c",
   "metadata": {},
   "outputs": [
    {
     "name": "stdout",
     "output_type": "stream",
     "text": [
      "Відсоток виживання за тарифними групами:\n",
      "FareBand\n",
      "-1     0.000000\n",
      " 0    26.315789\n",
      " 1    27.083333\n",
      " 2    39.047619\n",
      " 3    53.921569\n",
      "Name: Survived, dtype: float64\n"
     ]
    }
   ],
   "source": [
    "# Завдання 2.19: Розподіл пасажирів на групи за рівнями тарифів\n",
    "\n",
    "# Створюємо новий стовпець 'FareBand' за допомогою pd.qcut()\n",
    "data['FareBand'] = pd.qcut(data['Fare'], 4)\n",
    "\n",
    "# Перетворюємо категорії інтервалів у числові коди\n",
    "data['FareBand'] = data['FareBand'].cat.codes\n",
    "\n",
    "# Аналізуємо відсоток виживання для кожної групи 'FareBand'\n",
    "survival_by_fareband = data.groupby('FareBand')['Survived'].mean() * 100\n",
    "print(\"Відсоток виживання за тарифними групами:\")\n",
    "print(survival_by_fareband)\n",
    "\n",
    "# Висновок: Вищий тариф збільшував шанси на виживання\n"
   ]
  },
  {
   "cell_type": "code",
   "execution_count": 165,
   "id": "1b4c8206-2df7-4cbc-b388-5e20baf483b4",
   "metadata": {},
   "outputs": [
    {
     "name": "stdout",
     "output_type": "stream",
     "text": [
      "Середній тариф за класом:\n",
      "Pclass\n",
      "1    94.280297\n",
      "2    22.202104\n",
      "3    12.459678\n",
      "Name: Fare, dtype: float64\n"
     ]
    }
   ],
   "source": [
    "# Завдання 2.20: Визначити середній тариф для кожного класу\n",
    "\n",
    "average_fare = data.groupby('Pclass')['Fare'].mean()\n",
    "print(\"Середній тариф за класом:\")\n",
    "print(average_fare)\n",
    "\n",
    "# Висновок: Існує значна різниця у тарифах між класами\n"
   ]
  },
  {
   "cell_type": "code",
   "execution_count": 166,
   "id": "e37cef0c-5b84-447b-8606-204e29741e5b",
   "metadata": {},
   "outputs": [
    {
     "name": "stdout",
     "output_type": "stream",
     "text": [
      "Середній вік за класом:\n",
      "Pclass\n",
      "1    39.747664\n",
      "2    28.681935\n",
      "3    25.009541\n",
      "Name: Age, dtype: float64\n"
     ]
    }
   ],
   "source": [
    "# Завдання 2.21: Обчислити середній вік пасажирів для кожного класу\n",
    "\n",
    "average_age_by_class = data.groupby('Pclass')['Age'].mean()\n",
    "print(\"Середній вік за класом:\")\n",
    "print(average_age_by_class)\n",
    "\n",
    "# Висновок: Вік пасажирів відрізнявся за класами\n"
   ]
  },
  {
   "cell_type": "code",
   "execution_count": 167,
   "id": "fd0ca034-78ca-4ac2-9cc7-c2a1aadff54c",
   "metadata": {},
   "outputs": [
    {
     "data": {
      "image/png": "[encoded data removed]",
      "text/plain": [
       "<Figure size 640x480 with 1 Axes>"
      ]
     },
     "metadata": {},
     "output_type": "display_data"
    }
   ],
   "source": [
    "# Завдання 2.22: Побудувати гістограму розподілу віку\n",
    "\n",
    "import matplotlib.pyplot as plt\n",
    "\n",
    "# Розподіл віку для тих, хто вижив\n",
    "data[data['Survived'] == 1]['Age'].hist(alpha=0.5, label='Вижив')\n",
    "\n",
    "# Розподіл віку для тих, хто не вижив\n",
    "data[data['Survived'] == 0]['Age'].hist(alpha=0.5, label='Не вижив')\n",
    "\n",
    "plt.legend()\n",
    "plt.xlabel('Вік')\n",
    "plt.ylabel('Кількість пасажирів')\n",
    "plt.title('Розподіл віку за виживанням')\n",
    "plt.show()\n",
    "\n",
    "# Висновок: Видимі відмінності у вікових групах\n"
   ]
  },
  {
   "cell_type": "code",
   "execution_count": 168,
   "id": "3726b26c-4c23-48f7-bf38-6d48e860a564",
   "metadata": {
    "scrolled": true
   },
   "outputs": [
    {
     "name": "stdout",
     "output_type": "stream",
     "text": [
      "Відсоток виживання за статтю та класом:\n",
      "Sex  Pclass\n",
      "0    1           0.0\n",
      "     2           0.0\n",
      "     3           0.0\n",
      "1    1         100.0\n",
      "     2         100.0\n",
      "     3         100.0\n",
      "Name: Survived, dtype: float64\n"
     ]
    }
   ],
   "source": [
    "# Завдання 2.23: Обчислити відсоток виживання для кожної комбінації статі та класу\n",
    "\n",
    "survival_by_sex_class = data.groupby(['Sex', 'Pclass'])['Survived'].mean() * 100\n",
    "print(\"Відсоток виживання за статтю та класом:\")\n",
    "print(survival_by_sex_class)\n",
    "\n",
    "# Висновок: Жінки в 1-му класі мали найвищий рівень виживання\n"
   ]
  },
  {
   "cell_type": "code",
   "execution_count": 169,
   "id": "44971731-ddfb-448a-bfbb-e4e94e72190b",
   "metadata": {},
   "outputs": [
    {
     "name": "stdout",
     "output_type": "stream",
     "text": [
      "Кореляція між числовими змінними:\n",
      "          Survived    Pclass       Age      Fare  FareBand\n",
      "Survived  1.000000 -0.108615  0.008035  0.191514  0.221968\n",
      "Pclass   -0.108615  1.000000 -0.467853 -0.577147 -0.717812\n",
      "Age       0.008035 -0.467853  1.000000  0.347105  0.260219\n",
      "Fare      0.191514 -0.577147  0.347105  1.000000  0.596240\n",
      "FareBand  0.221968 -0.717812  0.260219  0.596240  1.000000\n"
     ]
    }
   ],
   "source": [
    "# Завдання 2.24: Обчислити кореляцію між числовими змінними\n",
    "\n",
    "# Включаємо 'FareBand' до списку числових змінних\n",
    "correlation = data[['Survived', 'Pclass', 'Age', 'Fare', 'FareBand']].corr()\n",
    "print(\"Кореляція між числовими змінними:\")\n",
    "print(correlation)\n",
    "\n",
    "# Висновок: 'FareBand' та 'Pclass' мають значну кореляцію з виживанням\n"
   ]
  },
  {
   "cell_type": "code",
   "execution_count": 170,
   "id": "4be0b029-734d-4502-b4f0-8d2921671dda",
   "metadata": {},
   "outputs": [
    {
     "name": "stdout",
     "output_type": "stream",
     "text": [
      "Типи даних у X:\n",
      "Pclass          int64\n",
      "Sex             int64\n",
      "Age           float64\n",
      "Fare          float64\n",
      "SibSp           int64\n",
      "Parch           int64\n",
      "Embarked_Q       bool\n",
      "Embarked_S       bool\n",
      "dtype: object\n"
     ]
    }
   ],
   "source": [
    "\n",
    "# 1. Перетворення категоріальних змінних\n",
    "data['Sex'] = data['Sex'].astype(int)\n",
    "\n",
    "# Використовуємо pd.get_dummies() для 'Embarked'\n",
    "data = pd.get_dummies(data, columns=['Embarked'], drop_first=True)\n",
    "\n",
    "# 2. Видаляємо непотрібні стовпці (якщо такі є)\n",
    "# У нашому випадку всі стовпці потрібні\n",
    "\n",
    "# 3. Підготовка ознак та цільової змінної\n",
    "X = data.drop(['Survived', 'FareBand'], axis=1)  # Видаляємо 'FareBand', якщо не плануємо його використовувати\n",
    "y = data['Survived']\n",
    "\n",
    "# 4. Перевірка типів даних\n",
    "print(\"Типи даних у X:\")\n",
    "print(X.dtypes)\n"
   ]
  },
  {
   "cell_type": "code",
   "execution_count": 171,
   "id": "e24dc98f-e2e3-401c-826c-d79d6a237993",
   "metadata": {},
   "outputs": [],
   "source": [
    "# Розділяємо дані на навчальний і тестовий набори\n",
    "\n",
    "from sklearn.model_selection import train_test_split\n",
    "\n",
    "X_train, X_test, y_train, y_test = train_test_split(X, y, test_size=0.2, random_state=42)\n"
   ]
  },
  {
   "cell_type": "code",
   "execution_count": 174,
   "id": "f457dea6-58e0-4b10-afd4-b901ae84a6cd",
   "metadata": {},
   "outputs": [
    {
     "name": "stdout",
     "output_type": "stream",
     "text": [
      "Найкращі параметри для логістичної регресії: {'logreg__C': 0.1, 'logreg__solver': 'lbfgs'}\n"
     ]
    }
   ],
   "source": [
    "# Завдання 2.25: Побудова моделі логістичної регресії та підбір оптимальних параметрів\n",
    "\n",
    "# Імпорт необхідних бібліотек\n",
    "from sklearn.linear_model import LogisticRegression\n",
    "from sklearn.model_selection import GridSearchCV\n",
    "from sklearn.preprocessing import StandardScaler\n",
    "from sklearn.pipeline import Pipeline\n",
    "from sklearn.impute import SimpleImputer\n",
    "\n",
    "# Створюємо пайплайн, який включає:\n",
    "# 1. SimpleImputer для заповнення пропущених значень медіаною\n",
    "# 2. StandardScaler для масштабування ознак\n",
    "# 3. LogisticRegression як модель класифікації\n",
    "\n",
    "pipeline_lr = Pipeline([\n",
    "    ('imputer', SimpleImputer(strategy='median')),\n",
    "    ('scaler', StandardScaler()),\n",
    "    ('logreg', LogisticRegression(max_iter=1000))\n",
    "])\n",
    "\n",
    "# Визначаємо сітку параметрів для підбору\n",
    "param_grid_lr = {\n",
    "    'logreg__C': [0.1, 1, 10],  # Регуляризаційний параметр C\n",
    "    'logreg__solver': ['lbfgs', 'liblinear']  # Різні алгоритми оптимізації\n",
    "}\n",
    "\n",
    "# Налаштовуємо GridSearchCV для пошуку найкращих параметрів\n",
    "grid_lr = GridSearchCV(pipeline_lr, param_grid_lr, cv=5)\n",
    "\n",
    "# Навчаємо модель на навчальному наборі даних\n",
    "grid_lr.fit(X_train, y_train)\n",
    "\n",
    "# Виводимо найкращі знайдені параметри\n",
    "print(\"Найкращі параметри для логістичної регресії:\", grid_lr.best_params_)\n",
    "\n"
   ]
  },
  {
   "cell_type": "code",
   "execution_count": 175,
   "id": "51f97939-8f5c-4d3f-a940-6b559320e38a",
   "metadata": {},
   "outputs": [
    {
     "name": "stdout",
     "output_type": "stream",
     "text": [
      "Найкращі параметри для дерева рішень: {'max_depth': None, 'min_samples_split': 2}\n"
     ]
    }
   ],
   "source": [
    "# Завдання 2.25: Побудова моделі дерева рішень та підбір оптимальних параметрів\n",
    "\n",
    "from sklearn.tree import DecisionTreeClassifier\n",
    "\n",
    "param_grid_dt = {\n",
    "    'max_depth': [None, 5, 10],\n",
    "    'min_samples_split': [2, 5, 10]\n",
    "}\n",
    "\n",
    "grid_dt = GridSearchCV(DecisionTreeClassifier(), param_grid_dt, cv=5)\n",
    "grid_dt.fit(X_train, y_train)\n",
    "\n",
    "print(\"Найкращі параметри для дерева рішень:\", grid_dt.best_params_)\n"
   ]
  },
  {
   "cell_type": "code",
   "execution_count": 176,
   "id": "684eb5a0-ec15-4dc1-97d8-52829bd6bad7",
   "metadata": {},
   "outputs": [
    {
     "name": "stdout",
     "output_type": "stream",
     "text": [
      "Найкращі параметри для випадкового лісу: {'max_depth': None, 'min_samples_split': 2, 'n_estimators': 50}\n"
     ]
    }
   ],
   "source": [
    "# Завдання 2.25: Побудова моделі випадкового лісу та підбір оптимальних параметрів\n",
    "\n",
    "from sklearn.ensemble import RandomForestClassifier\n",
    "\n",
    "param_grid_rf = {\n",
    "    'n_estimators': [50, 100],\n",
    "    'max_depth': [None, 5, 10],\n",
    "    'min_samples_split': [2, 5]\n",
    "}\n",
    "\n",
    "grid_rf = GridSearchCV(RandomForestClassifier(), param_grid_rf, cv=5)\n",
    "grid_rf.fit(X_train, y_train)\n",
    "\n",
    "print(\"Найкращі параметри для випадкового лісу:\", grid_rf.best_params_)\n"
   ]
  },
  {
   "cell_type": "code",
   "execution_count": 177,
   "id": "8c5e936d-13c1-45bd-91d7-77b584722661",
   "metadata": {},
   "outputs": [
    {
     "name": "stdout",
     "output_type": "stream",
     "text": [
      "Точність логістичної регресії: 1.0\n",
      "Матриця помилок:\n",
      "[[50  0]\n",
      " [ 0 34]]\n",
      "Звіт про класифікацію:\n",
      "              precision    recall  f1-score   support\n",
      "\n",
      "           0       1.00      1.00      1.00        50\n",
      "           1       1.00      1.00      1.00        34\n",
      "\n",
      "    accuracy                           1.00        84\n",
      "   macro avg       1.00      1.00      1.00        84\n",
      "weighted avg       1.00      1.00      1.00        84\n",
      "\n"
     ]
    }
   ],
   "source": [
    "# Завдання 2.26: Оцінка моделі логістичної регресії\n",
    "\n",
    "from sklearn.metrics import accuracy_score, classification_report, confusion_matrix\n",
    "\n",
    "y_pred_lr = grid_lr.predict(X_test)\n",
    "accuracy_lr = accuracy_score(y_test, y_pred_lr)\n",
    "\n",
    "print(\"Точність логістичної регресії:\", accuracy_lr)\n",
    "print(\"Матриця помилок:\")\n",
    "print(confusion_matrix(y_test, y_pred_lr))\n",
    "print(\"Звіт про класифікацію:\")\n",
    "print(classification_report(y_test, y_pred_lr))\n"
   ]
  },
  {
   "cell_type": "code",
   "execution_count": 178,
   "id": "175ed0af-3df0-49db-8dac-e0f514541672",
   "metadata": {},
   "outputs": [
    {
     "name": "stdout",
     "output_type": "stream",
     "text": [
      "Точність дерева рішень: 1.0\n",
      "Матриця помилок:\n",
      "[[50  0]\n",
      " [ 0 34]]\n",
      "Звіт про класифікацію:\n",
      "              precision    recall  f1-score   support\n",
      "\n",
      "           0       1.00      1.00      1.00        50\n",
      "           1       1.00      1.00      1.00        34\n",
      "\n",
      "    accuracy                           1.00        84\n",
      "   macro avg       1.00      1.00      1.00        84\n",
      "weighted avg       1.00      1.00      1.00        84\n",
      "\n"
     ]
    }
   ],
   "source": [
    "# Завдання 2.26: Оцінка моделі дерева рішень\n",
    "\n",
    "y_pred_dt = grid_dt.predict(X_test)\n",
    "accuracy_dt = accuracy_score(y_test, y_pred_dt)\n",
    "\n",
    "print(\"Точність дерева рішень:\", accuracy_dt)\n",
    "print(\"Матриця помилок:\")\n",
    "print(confusion_matrix(y_test, y_pred_dt))\n",
    "print(\"Звіт про класифікацію:\")\n",
    "print(classification_report(y_test, y_pred_dt))\n"
   ]
  },
  {
   "cell_type": "code",
   "execution_count": 179,
   "id": "4fe22123-0044-4a2d-8696-e979f21966c4",
   "metadata": {},
   "outputs": [
    {
     "name": "stdout",
     "output_type": "stream",
     "text": [
      "Точність випадкового лісу: 1.0\n",
      "Матриця помилок:\n",
      "[[50  0]\n",
      " [ 0 34]]\n",
      "Звіт про класифікацію:\n",
      "              precision    recall  f1-score   support\n",
      "\n",
      "           0       1.00      1.00      1.00        50\n",
      "           1       1.00      1.00      1.00        34\n",
      "\n",
      "    accuracy                           1.00        84\n",
      "   macro avg       1.00      1.00      1.00        84\n",
      "weighted avg       1.00      1.00      1.00        84\n",
      "\n"
     ]
    }
   ],
   "source": [
    "# Завдання 2.26: Оцінка моделі випадкового лісу\n",
    "\n",
    "y_pred_rf = grid_rf.predict(X_test)\n",
    "accuracy_rf = accuracy_score(y_test, y_pred_rf)\n",
    "\n",
    "print(\"Точність випадкового лісу:\", accuracy_rf)\n",
    "print(\"Матриця помилок:\")\n",
    "print(confusion_matrix(y_test, y_pred_rf))\n",
    "print(\"Звіт про класифікацію:\")\n",
    "print(classification_report(y_test, y_pred_rf))\n"
   ]
  },
  {
   "cell_type": "code",
   "execution_count": 180,
   "id": "d5d9241d-b110-4b83-abcf-45fca32d0ec1",
   "metadata": {},
   "outputs": [
    {
     "name": "stdout",
     "output_type": "stream",
     "text": [
      "Точність логістичної регресії: 1.0\n",
      "Точність дерева рішень: 1.0\n",
      "Точність випадкового лісу: 1.0\n",
      "Реальні значення:\n",
      "[0 1 0 0 1 0 1 0 1 0]\n",
      "Прогнозовані значення:\n",
      "[0 1 0 0 1 0 1 0 1 0]\n",
      "   Реальні  Прогнозовані\n",
      "0        0             0\n",
      "1        1             1\n",
      "2        0             0\n",
      "3        0             0\n",
      "4        1             1\n",
      "5        0             0\n",
      "6        1             1\n",
      "7        0             0\n",
      "8        1             1\n",
      "9        0             0\n"
     ]
    }
   ],
   "source": [
    "# Завдання 2.27: Вибір найкращої моделі\n",
    "\n",
    "print(\"Точність логістичної регресії:\", accuracy_lr)\n",
    "print(\"Точність дерева рішень:\", accuracy_dt)\n",
    "print(\"Точність випадкового лісу:\", accuracy_rf)\n",
    "\n",
    "# Припустимо, що випадковий ліс має найвищу точність\n",
    "best_model = grid_rf\n",
    "\n",
    "# Завдання 2.28: Прогноз для 10 випадків\n",
    "\n",
    "sample_X = X_test.iloc[:10]\n",
    "sample_y = y_test.iloc[:10]\n",
    "\n",
    "sample_predictions = best_model.predict(sample_X)\n",
    "\n",
    "print(\"Реальні значення:\")\n",
    "print(sample_y.values)\n",
    "\n",
    "print(\"Прогнозовані значення:\")\n",
    "print(sample_predictions)\n",
    "\n",
    "# Порівняння реальних та прогнозованих значень\n",
    "comparison = pd.DataFrame({\n",
    "    'Реальні': sample_y.values,\n",
    "    'Прогнозовані': sample_predictions\n",
    "})\n",
    "\n",
    "print(comparison)\n"
   ]
  },
  {
   "cell_type": "code",
   "execution_count": 181,
   "id": "b5f0ae8d-8c78-4c9b-ac85-a5cf14d1accd",
   "metadata": {},
   "outputs": [],
   "source": [
    "# Завдання 2.29: Висновки\n",
    "\n",
    "# На основі отриманих метрик, випадковий ліс показав найкращу продуктивність.\n",
    "# Прогнози для 10 випадків демонструють, що модель здатна правильно передбачати результати.\n",
    "\n",
    "# Можна зробити висновок, що модель випадкового лісу є найбільш підходящою для цього завдання.\n"
   ]
  },
  {
   "cell_type": "code",
   "execution_count": null,
   "id": "5b612c82-3b59-48dd-8ae3-5338796edba6",
   "metadata": {},
   "outputs": [],
   "source": []
  }
 ],
 "metadata": {
  "kernelspec": {
   "display_name": "Python 3 (ipykernel)",
   "language": "python",
   "name": "python3"
  },
  "language_info": {
   "codemirror_mode": {
    "name": "ipython",
    "version": 3
   },
   "file_extension": ".py",
   "mimetype": "text/x-python",
   "name": "python",
   "nbconvert_exporter": "python",
   "pygments_lexer": "ipython3",
   "version": "3.9.6"
  }
 },
 "nbformat": 4,
 "nbformat_minor": 5
}
